{
 "cells": [
  {
   "cell_type": "code",
   "execution_count": 145,
   "metadata": {
    "collapsed": true
   },
   "outputs": [],
   "source": [
    "import codecs\n",
    "#http://docs.python-guide.org/en/latest/scenarios/scrape/\n",
    "\n",
    "import numpy as np\n",
    "import matplotlib.pyplot as plt\n",
    "\n",
    "%matplotlib inline"
   ]
  },
  {
   "cell_type": "code",
   "execution_count": 3,
   "metadata": {
    "collapsed": true
   },
   "outputs": [],
   "source": [
    "import re\n",
    "p_row = re.compile(r'<tr class=\"\">(.*?)</tr>',re.DOTALL)\n",
    "p_row2 = re.compile(r'<tr.*?>(.*?)</tr>',re.DOTALL)\n",
    "p_cell = re.compile(r'<td.*?>(.*?)</td>',re.DOTALL)\n",
    "\n",
    "p_name = re.compile(r'php\">(.*?)</a>')\n",
    "P_diff = re.compile(r'>(.*?)</a>')"
   ]
  },
  {
   "cell_type": "markdown",
   "metadata": {},
   "source": [
    "So I had to check out **requests** because of the login\n",
    "\n",
    "http://kazuar.github.io/scraping-tutorial/"
   ]
  },
  {
   "cell_type": "code",
   "execution_count": 5,
   "metadata": {
    "collapsed": true
   },
   "outputs": [],
   "source": [
    "import requests\n",
    "#hash this as we'll be using it a lot\n",
    "def get_page(url):\n",
    "    return session_requests.get(\n",
    "            url, \n",
    "            headers = dict(referer = url))"
   ]
  },
  {
   "cell_type": "markdown",
   "metadata": {},
   "source": [
    "Set up a session with the site"
   ]
  },
  {
   "cell_type": "code",
   "execution_count": 6,
   "metadata": {
    "collapsed": true
   },
   "outputs": [],
   "source": [
    "session_requests = requests.session()\n",
    "\n",
    "base_url = 'https://www.procyclingstats.com/'\n",
    "login_url = base_url + 'login.php?'\n",
    "\n",
    "#don't keep logins in a worksheet\n",
    "import passwords_web\n",
    "payload = passwords_web.payload\n",
    "\n",
    "result = session_requests.post(\n",
    "    login_url, \n",
    "    data = payload, \n",
    "    headers = dict(referer=login_url)\n",
    "    )"
   ]
  },
  {
   "cell_type": "markdown",
   "metadata": {
    "collapsed": true
   },
   "source": [
    "we need to get all the stages so let's look here"
   ]
  },
  {
   "cell_type": "code",
   "execution_count": 18,
   "metadata": {
    "collapsed": true
   },
   "outputs": [],
   "source": [
    "itt_stages = []\n",
    "for yy in range(1983,2019):\n",
    "    print yy\n",
    "    result = get_page( base_url + 'race/tour-de-france/%d/stages/winners'%yy)\n",
    "    mm = p_row.findall(result.text)\n",
    "    race_stages = [p_cell.findall(row) for row in  mm]\n",
    "    ITT_stages = [ p_stage.search(x[1]).group(1) for x in race_stages[:] \n",
    "                                      if  '(itt)' in x[1].lower() ]\n",
    "    \n",
    "    itt_stages.append((yy, ITT_stages))"
   ]
  },
  {
   "cell_type": "markdown",
   "metadata": {},
   "source": [
    "we picked the ITTs"
   ]
  },
  {
   "cell_type": "code",
   "execution_count": 326,
   "metadata": {},
   "outputs": [
    {
     "data": {
      "text/plain": [
       "[(1983,\n",
       "  [u'race/tour-de-france/1983/stage-6',\n",
       "   u'race/tour-de-france/1983/stage-15',\n",
       "   u'race/tour-de-france/1983/stage-19',\n",
       "   u'race/tour-de-france/1983/stage-21']),\n",
       " (1984,\n",
       "  [u'race/tour-de-france/1984/stage-7',\n",
       "   u'race/tour-de-france/1984/stage-16',\n",
       "   u'race/tour-de-france/1984/stage-22'])]"
      ]
     },
     "execution_count": 326,
     "metadata": {},
     "output_type": "execute_result"
    }
   ],
   "source": [
    "itt_stages[:2]"
   ]
  },
  {
   "cell_type": "code",
   "execution_count": 12,
   "metadata": {},
   "outputs": [
    {
     "name": "stdout",
     "output_type": "stream",
     "text": [
      "https://www.procyclingstats.com/race/tour-de-france/2001/stages/winners\n"
     ]
    }
   ],
   "source": [
    "print base_url + 'race/tour-de-france/%d/stages/winners'%2001"
   ]
  },
  {
   "cell_type": "code",
   "execution_count": 13,
   "metadata": {
    "collapsed": true
   },
   "outputs": [],
   "source": [
    "p_stage = re.compile(r'<a  class=\"\" href=\"(.*?)\">')\n",
    "p_stats = re.compile('<span class=\"sprite stats2\"></span>(.*?)</div>', re.DOTALL)\n",
    "p_bold = re.compile('<b>(.*?)</b>')"
   ]
  },
  {
   "cell_type": "markdown",
   "metadata": {},
   "source": [
    "Pull the raw pages to a pair of lists\n",
    "- results from the race\n",
    "\n",
    "this might be a bit complicated because of bad data....\n"
   ]
  },
  {
   "cell_type": "code",
   "execution_count": 23,
   "metadata": {},
   "outputs": [
    {
     "name": "stdout",
     "output_type": "stream",
     "text": [
      "https://www.procyclingstats.com/race/tour-de-france/1983/stage-6\n",
      "https://www.procyclingstats.com/race/tour-de-france/1983/stage-15\n",
      "https://www.procyclingstats.com/race/tour-de-france/1983/stage-19\n",
      "https://www.procyclingstats.com/race/tour-de-france/1983/stage-21\n",
      "https://www.procyclingstats.com/race/tour-de-france/1984/stage-7\n",
      "https://www.procyclingstats.com/race/tour-de-france/1984/stage-16\n",
      "https://www.procyclingstats.com/race/tour-de-france/1984/stage-22\n",
      "https://www.procyclingstats.com/race/tour-de-france/1985/stage-8\n",
      "https://www.procyclingstats.com/race/tour-de-france/1985/stage-13\n",
      "https://www.procyclingstats.com/race/tour-de-france/1985/stage-21\n",
      "https://www.procyclingstats.com/race/tour-de-france/1986/stage-9\n",
      "https://www.procyclingstats.com/race/tour-de-france/1986/stage-20\n",
      "https://www.procyclingstats.com/race/tour-de-france/1987/stage-10\n",
      "https://www.procyclingstats.com/race/tour-de-france/1987/stage-18\n",
      "https://www.procyclingstats.com/race/tour-de-france/1987/stage-24\n",
      "https://www.procyclingstats.com/race/tour-de-france/1988/stage-6\n",
      "https://www.procyclingstats.com/race/tour-de-france/1988/stage-13\n",
      "https://www.procyclingstats.com/race/tour-de-france/1988/stage-21\n",
      "https://www.procyclingstats.com/race/tour-de-france/1989/stage-5\n",
      "https://www.procyclingstats.com/race/tour-de-france/1989/stage-15\n",
      "https://www.procyclingstats.com/race/tour-de-france/1989/stage-21\n",
      "https://www.procyclingstats.com/race/tour-de-france/1990/stage-7\n",
      "https://www.procyclingstats.com/race/tour-de-france/1990/stage-12\n",
      "https://www.procyclingstats.com/race/tour-de-france/1990/stage-20\n",
      "https://www.procyclingstats.com/race/tour-de-france/1991/stage-8\n",
      "https://www.procyclingstats.com/race/tour-de-france/1991/stage-21\n",
      "https://www.procyclingstats.com/race/tour-de-france/1992/stage-9\n",
      "https://www.procyclingstats.com/race/tour-de-france/1992/stage-19\n",
      "https://www.procyclingstats.com/race/tour-de-france/1993/stage-9\n",
      "https://www.procyclingstats.com/race/tour-de-france/1993/stage-19\n",
      "https://www.procyclingstats.com/race/tour-de-france/1994/stage-9\n",
      "https://www.procyclingstats.com/race/tour-de-france/1994/stage-19\n",
      "https://www.procyclingstats.com/race/tour-de-france/1995/stage-8\n",
      "https://www.procyclingstats.com/race/tour-de-france/1995/stage-19\n",
      "https://www.procyclingstats.com/race/tour-de-france/1996/stage-8\n",
      "https://www.procyclingstats.com/race/tour-de-france/1996/stage-20\n",
      "https://www.procyclingstats.com/race/tour-de-france/1997/stage-12\n",
      "https://www.procyclingstats.com/race/tour-de-france/1997/stage-20\n",
      "https://www.procyclingstats.com/race/tour-de-france/1998/stage-7\n",
      "https://www.procyclingstats.com/race/tour-de-france/1998/stage-20\n",
      "https://www.procyclingstats.com/race/tour-de-france/1999/stage-8\n",
      "https://www.procyclingstats.com/race/tour-de-france/1999/stage-19\n",
      "https://www.procyclingstats.com/race/tour-de-france/2000/stage-19\n",
      "https://www.procyclingstats.com/race/tour-de-france/2001/stage-11\n",
      "https://www.procyclingstats.com/race/tour-de-france/2001/stage-18\n",
      "https://www.procyclingstats.com/race/tour-de-france/2002/stage-9\n",
      "https://www.procyclingstats.com/race/tour-de-france/2002/stage-19\n",
      "https://www.procyclingstats.com/race/tour-de-france/2003/stage-4\n",
      "https://www.procyclingstats.com/race/tour-de-france/2003/stage-12\n",
      "https://www.procyclingstats.com/race/tour-de-france/2003/stage-19\n",
      "https://www.procyclingstats.com/race/tour-de-france/2004/stage-16\n",
      "https://www.procyclingstats.com/race/tour-de-france/2004/stage-19\n",
      "https://www.procyclingstats.com/race/tour-de-france/2005/stage-20\n",
      "https://www.procyclingstats.com/race/tour-de-france/2006/stage-7\n",
      "https://www.procyclingstats.com/race/tour-de-france/2006/stage-19\n",
      "https://www.procyclingstats.com/race/tour-de-france/2007/stage-13\n",
      "https://www.procyclingstats.com/race/tour-de-france/2007/stage-19\n",
      "https://www.procyclingstats.com/race/tour-de-france/2008/stage-4\n",
      "https://www.procyclingstats.com/race/tour-de-france/2008/stage-20\n",
      "https://www.procyclingstats.com/race/tour-de-france/2009/stage-18\n",
      "https://www.procyclingstats.com/race/tour-de-france/2010/stage-19\n",
      "https://www.procyclingstats.com/race/tour-de-france/2011/stage-20\n",
      "https://www.procyclingstats.com/race/tour-de-france/2012/stage-9\n",
      "https://www.procyclingstats.com/race/tour-de-france/2012/stage-19\n",
      "https://www.procyclingstats.com/race/tour-de-france/2013/stage-11\n",
      "https://www.procyclingstats.com/race/tour-de-france/2013/stage-17\n",
      "https://www.procyclingstats.com/race/tour-de-france/2014/stage-20\n",
      "https://www.procyclingstats.com/race/tour-de-france/2016/stage-13\n",
      "https://www.procyclingstats.com/race/tour-de-france/2016/stage-18\n",
      "https://www.procyclingstats.com/race/tour-de-france/2017/stage-20\n",
      "https://www.procyclingstats.com/race/tour-de-france/2018/stage-20\n"
     ]
    }
   ],
   "source": [
    "import time\n",
    "\n",
    "result_pages = []\n",
    "\n",
    "for yy,urls in itt_stages:\n",
    "    tt = []\n",
    "    for xx in urls:\n",
    "        url = base_url + xx\n",
    "        print url\n",
    "        tt.append(get_page(url))\n",
    "        time.sleep(5)\n",
    "    result_pages.append(tt)\n"
   ]
  },
  {
   "cell_type": "code",
   "execution_count": 32,
   "metadata": {},
   "outputs": [
    {
     "data": {
      "text/plain": [
       "[<Response [200]>, <Response [200]>, <Response [200]>, <Response [200]>]"
      ]
     },
     "execution_count": 32,
     "metadata": {},
     "output_type": "execute_result"
    }
   ],
   "source": [
    "result_pages[0]"
   ]
  },
  {
   "cell_type": "code",
   "execution_count": 212,
   "metadata": {},
   "outputs": [
    {
     "name": "stdout",
     "output_type": "stream",
     "text": [
      "FAIL>> 4 2 <td  >1</th><td   class=\"xhide\" data-name=\"bib\" >198</th><td  ><span class=\"flags us\"></span> <a href=\"rider/jeff-pierce\"><span class=\"uppercase\"> Pierce</span> Jeff</a></th><td   class=\"xhide\" data-name=\"age\" >28</th><td  ><a href=\"team/7-eleven-1987\">7 Eleven - Hoonved</a></th><td  >100</th><td style=\" text-align: right; \"  class=\"xhide\" data-name=\"gc\" >88</th><td style=\" text-align: right; \"  class=\"xhide\" data-name=\"gc\" >+2:42:22</th><td style=\" text-align: right; \" ><span class=\"timelag\">4:57:16</span> <span class=\"time \">4:57:16</span></th>\n",
      "FAIL>> 20 0 <td  >1</th><td  ><span style=\"font-size: 10px; color: #777; \">9</span></th><td  ><span style=\"color: #6DB84F; font-size: 10px; \">&#x25B2;8</span></th><td   class=\"xhide\" data-name=\"bib\" >8</th><td  ><span class=\"flags co\"></span> <a href=\"rider/victor-hugo-pena\"><span class=\"uppercase\"> PeÃ±a</span> Victor Hugo</a></th><td   class=\"xhide\" data-name=\"age\" >28</th><td  ><a href=\"team/us-postal-service-2003\">US Postal Service</a></th><td style=\" text-align: right; \"  class=\"xhide\" data-name=\"gc\" >1</th><td style=\" text-align: right; \"  class=\"xhide\" data-name=\"gc\" >+0:00</th><td style=\" text-align: right; \" ><span class=\"timelag\"> 13:44:44</span> <span class=\"time \"> 13:44:44</span></th><td style=\" text-align: right; \"  class=\"xhide\" data-name=\"time_wl\" ><a class=\"gaps GapsFromRider cur\" data-gap=\"4707\" data-np=\"0\" href=\"\">+0:00</a></th>\n",
      "FAIL>> 20 1 <td  >1</th><td   class=\"xhide\" data-name=\"bib\" >131</th><td  ><span class=\"flags de\"></span> <a href=\"rider/jan-ullrich\"><span class=\"uppercase\"> Ullrich</span> Jan</a></th><td   class=\"xhide\" data-name=\"age\" >29</th><td  ><a href=\"team/team-bianchi-2003\">Team Bianchi</a></th><td  >100</th><td  ></th><td style=\" text-align: right; \"  class=\"xhide\" data-name=\"gc\" >3</th><td style=\" text-align: right; \"  class=\"xhide\" data-name=\"gc\" >+ 50:17:19</th><td style=\" text-align: right; \" ><span class=\"timelag\">0:00</span> <span class=\"time \">0:00</span></th>\n"
     ]
    }
   ],
   "source": [
    "#I don't think I need the DOTALL but...\n",
    "p_data = re.compile('<a href=\"(.*?)\">.*?<a href=\"(.*?)\">.*?'\n",
    "                    '(\\d+\\.\\d+).*?'\n",
    "                   '<span class=\"timelag\">(.*?)</span>',re.DOTALL)\n",
    "\n",
    "p_stage_data = re.compile('<span class=\"red\" style=\"font: 21px tahoma; \">\\((\\d|\\.)+k\\)</span>')\n",
    "\n",
    "stage_results = [ [] for x in range(1983,2019)]\n",
    "for i, yy in enumerate(result_pages[:]):\n",
    "    # a bit verbose but I was having trouble with None\n",
    "    #because there was a gotcha in the first stage data\n",
    "    #the results aren't the first table in the page\n",
    "    for j,x in enumerate(yy):\n",
    "        stage_results[i].append([])\n",
    "        #mm = p_stage_data.search(x.text)\n",
    "        #print mm\n",
    "        try:\n",
    "            #I changed x to y in the for but not in the if \n",
    "            #resulted in really strange behavior - cell took forever to run\n",
    "            rows = [ y for y in p_row2.findall(x.text) if 'class=\"time \"' in y]\n",
    "            #careful only taking top 30\n",
    "            for row in rows[0:30]:\n",
    "                #there's another hidden table on stage 24 1987\n",
    "                #so u have to try to get rid of it this no work:\n",
    "                if 'xhide\" data-name=\"gc' not in row: continue\n",
    "                if 'DNS' in row: continue\n",
    "                mm = p_data.search(row)  \n",
    "                stage_results[i][-1].append( mm.groups() )\n",
    "        except:\n",
    "            print 'FAIL>>', i  ,j, row"
   ]
  },
  {
   "cell_type": "code",
   "execution_count": 239,
   "metadata": {},
   "outputs": [
    {
     "data": {
      "text/plain": [
       "(u'rider/julian-gorospe', u'team/reynolds-1983', u'43.673', u'1:07')"
      ]
     },
     "execution_count": 239,
     "metadata": {},
     "output_type": "execute_result"
    }
   ],
   "source": [
    "stage_results[0][0][2]"
   ]
  },
  {
   "cell_type": "markdown",
   "metadata": {},
   "source": [
    "So we'll dump the cleaned data - \n",
    "since there are no user classes involved\n",
    "we'll just pickle it for later."
   ]
  },
  {
   "cell_type": "code",
   "execution_count": 263,
   "metadata": {
    "collapsed": true
   },
   "outputs": [],
   "source": [
    "import pickle\n",
    "\n",
    "with file('itt.pkl','wb') as fp:\n",
    "    pickle.dump(cleaned, fp)"
   ]
  },
  {
   "cell_type": "code",
   "execution_count": 240,
   "metadata": {},
   "outputs": [
    {
     "data": {
      "text/plain": [
       "(u'44.294',\n",
       " u'43.875',\n",
       " u'43.673',\n",
       " u'43.664',\n",
       " u'43.482',\n",
       " u'43.473',\n",
       " u'43.176',\n",
       " u'43.132',\n",
       " u'43.087',\n",
       " u'42.866',\n",
       " u'42.840',\n",
       " u'42.796',\n",
       " u'42.691',\n",
       " u'42.682',\n",
       " u'42.638',\n",
       " u'42.499',\n",
       " u'42.405',\n",
       " u'42.396',\n",
       " u'42.387',\n",
       " u'42.336',\n",
       " u'42.327',\n",
       " u'42.301',\n",
       " u'42.259',\n",
       " u'42.216',\n",
       " u'42.199',\n",
       " u'42.156',\n",
       " u'42.131',\n",
       " u'42.105',\n",
       " u'42.105',\n",
       " u'42.097')"
      ]
     },
     "execution_count": 240,
     "metadata": {},
     "output_type": "execute_result"
    }
   ],
   "source": [
    "cleaned = [ [zip(*x) for x in yy] for yy in stage_results]\n",
    "cleaned[0][0][2]"
   ]
  },
  {
   "cell_type": "code",
   "execution_count": 315,
   "metadata": {},
   "outputs": [
    {
     "data": {
      "text/plain": [
       "36"
      ]
     },
     "execution_count": 315,
     "metadata": {},
     "output_type": "execute_result"
    }
   ],
   "source": [
    "just_times = []\n",
    "for yy in cleaned: \n",
    "    just_times.append([(x[-2],x[-1]) for x in yy if x] )\n",
    "        \n",
    "len(just_times)"
   ]
  },
  {
   "cell_type": "code",
   "execution_count": 324,
   "metadata": {},
   "outputs": [
    {
     "data": {
      "image/png": "[encoded data removed]",
      "text/plain": [
       "<matplotlib.figure.Figure at 0x11cae4990>"
      ]
     },
     "metadata": {},
     "output_type": "display_data"
    }
   ],
   "source": [
    "\n",
    "for k,yy in enumerate(just_times[:]):   \n",
    "    for pp in yy:\n",
    "        avg, X = pp\n",
    "        \n",
    "        if max([a - b for a, b in zip(X[1:], X[2:])]) > 0: continue\n",
    "        Y = np.array([float(x) for x in X])\n",
    "        if Y[0] == Y[1] : continue\n",
    "\n",
    "        #normalise the data\n",
    "        Y[0] = 0.\n",
    "        Y /= max(Y)\n",
    "        \n",
    "        #calculate a linear interpolation\n",
    "        Z = np.linspace(0,29,30)\n",
    "        #Y[0], Y[-1]  = 0, 1\n",
    "        m = (Y[-1] - Y[0])/29.\n",
    "        Z = Z*m + Z[0]\n",
    "        \n",
    "        #so we'll the L^2 difference between\n",
    "        #data andd linear interpolation\n",
    "        dev = np.linalg.norm(Y-Z)\n",
    "        \n",
    "        #keep just the ones with a big norm\n",
    "        if dev < 1.: continue\n",
    "        plt.plot(Y)\n",
    "\n",
    "        \n",
    "\n",
    "    "
   ]
  },
  {
   "cell_type": "code",
   "execution_count": 219,
   "metadata": {},
   "outputs": [
    {
     "data": {
      "text/plain": [
       "248.76889981917225"
      ]
     },
     "execution_count": 219,
     "metadata": {},
     "output_type": "execute_result"
    },
    {
     "data": {
      "image/png": "[encoded data removed]",
      "text/plain": [
       "<matplotlib.figure.Figure at 0x11ab4ac10>"
      ]
     },
     "metadata": {},
     "output_type": "display_data"
    }
   ],
   "source": [
    "X = cleaned[13][0][-1]\n",
    "X = [X[0]] + [x + X[0] for x in X[1:]]\n",
    "X = np.array(X)\n",
    "Y = np.linspace(0,29,30)\n",
    "m = (X[-1] - X[0])/29.\n",
    "Y = Y*m + X[0]\n",
    "\n",
    "plt.plot(X)\n",
    "plt.plot(Y)\n",
    "\n",
    "np.linalg.norm(X-Y)"
   ]
  },
  {
   "cell_type": "code",
   "execution_count": 241,
   "metadata": {
    "collapsed": true
   },
   "outputs": [],
   "source": [
    "def str2time(tt):\n",
    "    bits = [int(y) for y in reversed(tt.split(':'))]\n",
    "    return sum( y*60**i for i, y in enumerate(bits) )\n",
    "\n",
    "\n",
    "xs = []\n",
    "duds = []\n",
    "for yy, tdf  in enumerate(cleaned):\n",
    "    #print yy + 1983\n",
    "    for k, itt in enumerate(tdf):\n",
    "        #we are going to overwrite the times which is itt[-1]\n",
    "        if not itt: continue\n",
    "        rider_times = list(itt[-1])\n",
    "        xs.append(rider_times[0])\n",
    "        duds.extend( x for x in rider_times if ':' not in x)\n",
    "        for i,x in enumerate(rider_times):\n",
    "            if ':' in x: continue\n",
    "            #this means there is a \" in the times so\n",
    "            rider_times[i] = rider_times[i-1]\n",
    "            \n",
    "        #so we'll make the times a numpy array\n",
    "        TS  = np.array( [str2time(t) for t in rider_times] )\n",
    "        winner_t = TS[0]\n",
    "        TS[ TS - winner_t > 0 ] -= winner_t\n",
    "        tdf[k][-1] = TS\n",
    "        \n",
    "        tdf[k][-2] = np.array([float(x) for x in itt[-2]])\n",
    "        \n"
   ]
  },
  {
   "cell_type": "code",
   "execution_count": 293,
   "metadata": {},
   "outputs": [
    {
     "data": {
      "text/plain": [
       "array([ 58.00053222,  58.0003125 ,  58.00017028,  58.00034667,\n",
       "        58.00015667,  58.0002275 ,  57.99976   ,  58.00055889,\n",
       "        57.99988944,  58.00007944,  58.0006    ,  58.00046778,\n",
       "        58.00046694,  58.00009556,  57.99952389,  57.99932972,\n",
       "        58.00061667,  58.00008333,  57.999545  ,  58.00032   ,\n",
       "        57.9997475 ,  57.99937111,  58.0004775 ,  58.00009333,\n",
       "        58.00018111,  57.99963   ,  58.00034333,  57.9996375 ,\n",
       "        57.9996375 ,  58.00031111])"
      ]
     },
     "execution_count": 293,
     "metadata": {},
     "output_type": "execute_result"
    }
   ],
   "source": [
    "T = np.copy(cleaned[0][0][-1])\n",
    "x, T[0] = T[0], 0\n",
    "T += x\n",
    "AV = cleaned[0][0][-2]\n",
    "#careful casting doesn't work well\n",
    "AV*T /3600"
   ]
  },
  {
   "cell_type": "code",
   "execution_count": 301,
   "metadata": {},
   "outputs": [],
   "source": [
    "dd = []\n",
    "\n",
    "for k,yy in enumerate(just_times[:]):   \n",
    "    for pp in yy:\n",
    "        avg, X = pp\n",
    "        yr, dist =  k + 1983, (avg*X/3600.)[0]\n",
    "        \n",
    "        if max([a - b for a, b in zip(X[1:], X[2:])]) > 0: continue\n",
    "        Y = np.array([float(x) for x in X])\n",
    "        if Y[0] == Y[1] : continue\n",
    "\n",
    "        Y[0] = 0.\n",
    "        Y /= max(Y)\n",
    "        Z = np.linspace(0,29,30)\n",
    "        m = (Y[-1] - Y[0])/29.\n",
    "        Z = Z*m + Z[0]\n",
    "        dev = np.linalg.norm(Y-Z)\n",
    "        dd.append((k + 1983,dist,dev,avg[0]))\n",
    "        \n"
   ]
  },
  {
   "cell_type": "code",
   "execution_count": 302,
   "metadata": {},
   "outputs": [
    {
     "data": {
      "text/plain": [
       "[(2014, 54.000053333333334, 1.3099512713874335, 48.832000000000001),\n",
       " (2016, 37.499900000000004, 1.1759186329807012, 44.776000000000003),\n",
       " (2016, 17.000139166666667, 0.73387906634353961, 33.207000000000001),\n",
       " (2017, 22.500183333333329, 0.61571183321095824, 47.787999999999997),\n",
       " (2018, 31.000091111111114, 0.81656884237001226, 45.514000000000003)]"
      ]
     },
     "execution_count": 302,
     "metadata": {},
     "output_type": "execute_result"
    }
   ],
   "source": [
    "dd[-5:]"
   ]
  },
  {
   "cell_type": "code",
   "execution_count": 313,
   "metadata": {},
   "outputs": [
    {
     "data": {
      "image/png": "[encoded data removed]",
      "text/plain": [
       "<matplotlib.figure.Figure at 0x11c490a10>"
      ]
     },
     "metadata": {},
     "output_type": "display_data"
    }
   ],
   "source": [
    "rr = [x for x in dd if x[-1] > 40 and 1999 < x[0] ]\n",
    "YY, dist,dev,avg = zip(*rr)\n",
    "\n",
    "labels = [str(x) for x in YY]\n",
    "XS,YS = dist,avg\n",
    "plt.plot(XS,YS,'rx')\n",
    "\n",
    "for label, x, y in zip(labels, XS, YS):\n",
    "    plt.annotate(\n",
    "        label,\n",
    "        xy=(x, y), xytext=(-10, 10),\n",
    "        textcoords='offset points', ha='right', va='bottom',\n",
    "        bbox=dict(boxstyle='round,pad=0.5', fc='yellow', alpha=0.5),\n",
    "        arrowprops=dict(arrowstyle = '->', connectionstyle='arc3,rad=0'))\n",
    "\n",
    "\n"
   ]
  },
  {
   "cell_type": "code",
   "execution_count": null,
   "metadata": {},
   "outputs": [],
   "source": []
  },
  {
   "cell_type": "code",
   "execution_count": null,
   "metadata": {
    "collapsed": true
   },
   "outputs": [],
   "source": []
  }
 ],
 "metadata": {
  "kernelspec": {
   "display_name": "Python 2",
   "language": "python",
   "name": "python2"
  },
  "language_info": {
   "codemirror_mode": {
    "name": "ipython",
    "version": 2
   },
   "file_extension": ".py",
   "mimetype": "text/x-python",
   "name": "python",
   "nbconvert_exporter": "python",
   "pygments_lexer": "ipython2",
   "version": "2.7.13"
  }
 },
 "nbformat": 4,
 "nbformat_minor": 2
}
