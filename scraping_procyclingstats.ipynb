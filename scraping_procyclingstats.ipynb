{
 "cells": [
  {
   "cell_type": "code",
   "execution_count": 5,
   "metadata": {
    "collapsed": true
   },
   "outputs": [],
   "source": [
    "import lxml.html as lh\n",
    "import codecs\n",
    "#http://docs.python-guide.org/en/latest/scenarios/scrape/\n",
    "\n",
    "riders = tree.xpath(\"//tr\")"
   ]
  },
  {
   "cell_type": "markdown",
   "metadata": {},
   "source": [
    "parse() is meant to parse from files and file-like objects, so you are\n",
    "telling it to parse from the \"file path\" in pagecontents, which obviously\n",
    "does not exist. I admit that the error message is not helpful."
   ]
  },
  {
   "cell_type": "code",
   "execution_count": 15,
   "metadata": {
    "collapsed": true
   },
   "outputs": [],
   "source": []
  },
  {
   "cell_type": "code",
   "execution_count": 133,
   "metadata": {
    "collapsed": true
   },
   "outputs": [],
   "source": [
    "import re\n",
    "p_row = re.compile(r'<tr class=\"\">(.*?)</tr>',re.DOTALL)\n",
    "p_row2 = re.compile(r'<tr.*?>(.*?)</tr>',re.DOTALL)\n",
    "p_cell = re.compile(r'<td.*?>(.*?)</td>',re.DOTALL)\n",
    "\n",
    "p_name = re.compile(r'php\">(.*?)</a>')\n",
    "P_diff = re.compile(r'>(.*?)</a>')"
   ]
  },
  {
   "cell_type": "code",
   "execution_count": 63,
   "metadata": {},
   "outputs": [
    {
     "name": "stdout",
     "output_type": "stream",
     "text": [
      "['SAGAN Peter', 96.0, 92.8, 3.2]\n"
     ]
    }
   ],
   "source": [
    "\n",
    "mm = p_row.findall(urllib2.urlopen.read())\n",
    "table = [rider(p_cell.findall(row)) for row in  mm]\n",
    "\n",
    "print table[0].s2row()"
   ]
  },
  {
   "cell_type": "code",
   "execution_count": 66,
   "metadata": {
    "collapsed": true
   },
   "outputs": [],
   "source": [
    "import csv\n",
    "\n",
    "with open('riders.csv', 'wb') as csvfile:\n",
    "    spamwriter = csv.writer(csvfile, delimiter=',',\n",
    "                            quotechar='|', quoting=csv.QUOTE_MINIMAL)\n",
    "    spamwriter.writerow(['name', 'today', 'yesterday', 'difference'])\n",
    "    for x in table:\n",
    "        spamwriter.writerow(x.s2row())"
   ]
  },
  {
   "cell_type": "code",
   "execution_count": 53,
   "metadata": {
    "collapsed": true
   },
   "outputs": [],
   "source": [
    "rider_scores = [ (x.diff, x.name) for x in table]"
   ]
  },
  {
   "cell_type": "code",
   "execution_count": 55,
   "metadata": {
    "collapsed": true
   },
   "outputs": [],
   "source": [
    "rider_scores.sort()"
   ]
  },
  {
   "cell_type": "code",
   "execution_count": 56,
   "metadata": {},
   "outputs": [
    {
     "name": "stdout",
     "output_type": "stream",
     "text": [
      "(-8.799999999999997, 'GROENEWEGEN Dylan')\n",
      "(-6.9, 'CAVENDISH Mark')\n",
      "(-5.799999999999999, 'GREIPEL Andr\\xc3\\xa9')\n",
      "(-2.5, 'EWAN Caleb')\n",
      "(-2.0, 'LAPORTE Christophe')\n",
      "(-1.2000000000000002, 'BOASSON HAGEN Edvald')\n",
      "(-0.4, 'PASQUALON Andrea')\n",
      "(-0.2999999999999998, 'VAN AVERMAET Greg')\n",
      "(-0.19999999999999998, 'BENOOT Tiesj')\n",
      "(-0.19999999999999998, 'BERNAL Egan Arley')\n",
      "(-0.19999999999999998, 'CORT  NIELSEN Magnus ')\n",
      "(-0.19999999999999998, 'DE GENDT Thomas')\n",
      "(-0.19999999999999998, 'DUPONT Timothy')\n",
      "(-0.19999999999999998, 'EDET Nicolas')\n",
      "(-0.19999999999999998, 'FRAILE Omar')\n",
      "(-0.19999999999999998, 'MARCZYNSKI Tomasz')\n",
      "(-0.19999999999999998, 'POLJANSKI Pawel')\n",
      "(-0.19999999999999998, 'RICHEZE Ariel Maximiliano')\n",
      "(-0.19999999999999998, 'SIEBERG Marcel')\n",
      "(-0.19999999999999998, 'STUYVEN Jasper')\n",
      "(-0.19999999999999998, 'TERPSTRA Niki')\n",
      "(-0.19999999999999998, 'THOMAS Geraint')\n",
      "(-0.19999999999999998, 'YATES Adam')\n",
      "(-0.19999999999999996, 'FROOME Christopher')\n",
      "(-0.19999999999999996, 'KWIATKOWSKI Michal')\n",
      "(-0.19999999999999996, 'NIBALI Vincenzo')\n",
      "(-0.09999999999999998, 'GILBERT Philippe')\n",
      "(-0.09999999999999998, 'IMPEY Daryl')\n",
      "(-0.09999999999999998, 'NAESEN Oliver')\n",
      "(-0.09999999999999998, 'QUINTANA Nairo')\n",
      "(-0.09999999999999998, 'ROGLIC Primoz')\n",
      "(0.1, 'BARGUIL Warren')\n",
      "(0.1, 'GALLOPIN Tony')\n",
      "(0.1, 'MARTIN Guillaume')\n",
      "(0.1, 'MOLLEMA Bauke')\n",
      "(0.1, 'MOSCON Gianni')\n",
      "(0.1, 'PORTE Richie')\n",
      "(0.1, 'URAN Rigoberto')\n",
      "(0.10000000000000003, 'VALVERDE Alejandro')\n",
      "(0.10000000000000009, 'ALAPHILIPPE Julian')\n",
      "(0.2, 'BARDET Romain')\n",
      "(0.2, 'DUMOULIN Tom')\n",
      "(0.4, 'MARTIN Daniel')\n",
      "(1.0, 'DEGENKOLB John')\n",
      "(1.1000000000000014, 'MATTHEWS Michael')\n",
      "(2.0999999999999943, 'KITTEL Marcel')\n",
      "(2.8000000000000114, 'GAVIRIA Fernando')\n",
      "(3.200000000000003, 'SAGAN Peter')\n",
      "(4.299999999999997, 'D\\xc3\\x89MARE Arnaud')\n",
      "(9.600000000000001, 'KRISTOFF Alexander')\n",
      "(11.500000000000002, 'COLBRELLI Sonny')\n"
     ]
    }
   ],
   "source": [
    "for x in rider_scores:\n",
    "    print x"
   ]
  },
  {
   "cell_type": "code",
   "execution_count": 62,
   "metadata": {
    "collapsed": true
   },
   "outputs": [],
   "source": [
    "class rider(object):\n",
    "    \n",
    "    def __init__(self,row):\n",
    "        \n",
    "        self.num, name_etc, pop_now, pop_then, pop_diff =   row\n",
    "        \n",
    "        self.name = p_name.search(name_etc).group(1)\n",
    "        self.pop_now = float(pop_now)\n",
    "        self.pop_then = float(pop_then)\n",
    "        self.diff = self.pop_now - self.pop_then\n",
    "        \n",
    "    def s2row(self):\n",
    "        return [self.name, self.pop_now, self.pop_then, .1*int(10*self.diff)]\n",
    "\n",
    "            \n",
    "    def __str__(self):\n",
    "        return '%s %.1f'%(self.name, self.diff)\n"
   ]
  },
  {
   "cell_type": "markdown",
   "metadata": {},
   "source": [
    "So I had to check out **requests** because of the login\n",
    "\n",
    "http://kazuar.github.io/scraping-tutorial/"
   ]
  },
  {
   "cell_type": "code",
   "execution_count": 297,
   "metadata": {
    "collapsed": true
   },
   "outputs": [],
   "source": [
    "import requests\n",
    "#hash this as we'll be using it a lot\n",
    "def get_page(url):\n",
    "    return session_requests.get(\n",
    "            url, \n",
    "            headers = dict(referer = url))"
   ]
  },
  {
   "cell_type": "markdown",
   "metadata": {},
   "source": [
    "Set up a session with the site"
   ]
  },
  {
   "cell_type": "code",
   "execution_count": 110,
   "metadata": {
    "collapsed": true
   },
   "outputs": [],
   "source": [
    "session_requests = requests.session()\n",
    "\n",
    "base_url = 'https://www.procyclingstats.com/'\n",
    "login_url = base_url + 'login.php?'\n",
    "\n",
    "#don't keep logins in a worksheet\n",
    "import passwords_web\n",
    "payload = passwords_web.payload\n",
    "\n",
    "result = session_requests.post(\n",
    "    login_url, \n",
    "    data = payload, \n",
    "    headers = dict(referer=login_url)\n",
    "    )"
   ]
  },
  {
   "cell_type": "markdown",
   "metadata": {
    "collapsed": true
   },
   "source": [
    "we need to get all the stages so let's look here"
   ]
  },
  {
   "cell_type": "code",
   "execution_count": 182,
   "metadata": {
    "collapsed": true
   },
   "outputs": [],
   "source": [
    "result = get_page( base_url + 'race/tour-de-france/%d/stages/winners'%2016)\n",
    "mm = p_row.findall(result.text)\n",
    "race_stages = [p_cell.findall(row) for row in  mm]"
   ]
  },
  {
   "cell_type": "markdown",
   "metadata": {},
   "source": [
    "pick the flat non time trial stages\n",
    "\n",
    "stages are tagged  as follows\n",
    "\n",
    "- **t1s14** absolutely flat\n",
    "- **t2s14** bumpy in the middle but flat/descent to finish"
   ]
  },
  {
   "cell_type": "code",
   "execution_count": 116,
   "metadata": {
    "collapsed": true
   },
   "outputs": [],
   "source": [
    "p_stage = re.compile(r'<a  class=\"\" href=\"(.*?)\">')\n",
    "p_stats = re.compile('<span class=\"sprite stats2\"></span>(.*?)</div>', re.DOTALL)\n",
    "p_bold = re.compile('<b>(.*?)</b>')"
   ]
  },
  {
   "cell_type": "code",
   "execution_count": 188,
   "metadata": {
    "collapsed": true
   },
   "outputs": [],
   "source": [
    "sprint_stages = [ p_stage.search(x[1]).group(1) for x in race_stages[:] \n",
    "                                      if 't1s14' in x[0]  or 't2s14' in x[0]\n",
    "                                    and 'time trial' not in x[1].lower()\n",
    "                                    and '(itt)' not in x[1].lower()\n",
    "]"
   ]
  },
  {
   "cell_type": "markdown",
   "metadata": {},
   "source": [
    "Pull the raw pages to a pair of lists\n",
    "- results from the race\n",
    "- stats from the game"
   ]
  },
  {
   "cell_type": "code",
   "execution_count": 254,
   "metadata": {},
   "outputs": [
    {
     "name": "stdout",
     "output_type": "stream",
     "text": [
      "https://www.procyclingstats.com/race/tour-de-france/2016/stage-1\n",
      "https://www.procyclingstats.com/race/tour-de-france/2016/stage-3\n",
      "https://www.procyclingstats.com/race/tour-de-france/2016/stage-4\n",
      "https://www.procyclingstats.com/race/tour-de-france/2016/stage-6\n",
      "https://www.procyclingstats.com/race/tour-de-france/2016/stage-11\n",
      "https://www.procyclingstats.com/race/tour-de-france/2016/stage-14\n",
      "https://www.procyclingstats.com/race/tour-de-france/2016/stage-16\n",
      "https://www.procyclingstats.com/race/tour-de-france/2016/stage-21\n"
     ]
    }
   ],
   "source": [
    "import time\n",
    "\n",
    "result_pages = []\n",
    "stat_pages = []\n",
    "\n",
    "for xx in sprint_stages:\n",
    "    url = base_url + xx\n",
    "    print url\n",
    "    result_pages.append(get_page(url))\n",
    "    time.sleep(10)\n",
    "    url +=  '/game'\n",
    "    stat_pages.append(get_page(url))\n",
    "    time.sleep(5)"
   ]
  },
  {
   "cell_type": "code",
   "execution_count": 191,
   "metadata": {
    "collapsed": true
   },
   "outputs": [],
   "source": [
    "stats = []\n",
    "for x in stat_pages:\n",
    "    snippet = p_stats.search( x.text).group(1)\n",
    "    stats.append(p_bold.findall(snippet))\n",
    "    \n",
    "clean_stats = zip(*stats)\n",
    "for k,row in enumerate(clean_stats):\n",
    "    #the last line has percentages - maybe I should just calculate them\n",
    "    if k == 3:\n",
    "        clean_stats[k] = [float(x[:-1]) for x in row]\n",
    "        continue\n",
    "    clean_stats[k] = [int(x) for x in row]  "
   ]
  },
  {
   "cell_type": "code",
   "execution_count": 194,
   "metadata": {},
   "outputs": [
    {
     "data": {
      "text/plain": [
       "[[1048, 910, 896, 869, 806, 743, 746, 736],\n",
       " [77, 73, 55, 65, 24, 79, 57, 46],\n",
       " [559, 693, 462, 703, 629, 602, 689, 635],\n",
       " [53.3, 76.2, 51.6, 80.9, 78.0, 81.0, 92.4, 86.3]]"
      ]
     },
     "execution_count": 194,
     "metadata": {},
     "output_type": "execute_result"
    }
   ],
   "source": [
    "clean_stats"
   ]
  },
  {
   "cell_type": "code",
   "execution_count": 298,
   "metadata": {
    "collapsed": true
   },
   "outputs": [],
   "source": [
    "#I don't think I need the DOTALL but...\n",
    "p_data = re.compile('<a href=\"(.*?)\">.*?<a href=\"(.*?)\">.*?'\n",
    "                   '<span class=\"timelag\">(.*?)</span>',re.DOTALL)\n",
    "\n",
    "\n",
    "stage_results = []\n",
    "for x in result_pages[:]:\n",
    "    # a bit verbose but I was having trouble with None\n",
    "    stage_results.append([])\n",
    "    #because there was a gotcha in the first stage data\n",
    "    #the results aren't the first table in the page\n",
    "    rows = [ x for x in p_row2.findall(x.text) if 'class=\"time \"' in x]\n",
    "    for row in rows[0:20]:\n",
    "        mm = p_data.search(row)  \n",
    "        stage_results[-1].append( mm.groups() )"
   ]
  },
  {
   "cell_type": "code",
   "execution_count": 299,
   "metadata": {},
   "outputs": [
    {
     "name": "stdout",
     "output_type": "stream",
     "text": [
      "https://www.procyclingstats.com/race/tour-de-france/2016/stage-1\n",
      "(u'rider/mark-cavendish', u'team/dimension-data-2016', u'4:14:05')\n",
      "(u'rider/marcel-kittel', u'team/etixx-quick-step-2016', u',,')\n",
      "(u'rider/peter-sagan', u'team/tinkoff-2016', u',,')\n",
      "(u'rider/andre-greipel', u'team/lotto-soudal-2016', u',,')\n",
      "(u'rider/edward-theuns', u'team/trek-segafredo-2016', u',,')\n",
      "(u'rider/christophe-laporte', u'team/cofidis-solutions-credits-2016', u',,')\n",
      "(u'rider/bryan-coquard', u'team/direct-energie-2016', u',,')\n",
      "(u'rider/alexander-kristoff', u'team/team-katusha-2016', u',,')\n",
      "(u'rider/daniel-mclay', u'team/fortuneo-vital-concept-2016', u',,')\n",
      "(u'rider/gregory-henderson', u'team/lotto-soudal-2016', u',,')\n",
      "(u'rider/sondre-holst-enger', u'team/iam-cycling-2016', u',,')\n",
      "(u'rider/jasper-stuyven', u'team/trek-segafredo-2016', u',,')\n",
      "(u'rider/warren-barguil', u'team/team-giant-alpecin-2016', u',,')\n",
      "(u'rider/julian-alaphilippe', u'team/etixx-quick-step-2016', u',,')\n",
      "(u'rider/john-degenkolb', u'team/team-giant-alpecin-2016', u',,')\n",
      "(u'rider/mark-renshaw', u'team/dimension-data-2016', u',,')\n",
      "(u'rider/jens-debusschere', u'team/lotto-soudal-2016', u',,')\n",
      "(u'rider/gregory-rast', u'team/trek-segafredo-2016', u',,')\n",
      "(u'rider/albert-timmer', u'team/team-giant-alpecin-2016', u',,')\n",
      "(u'rider/ariel-maximiliano-richeze', u'team/etixx-quick-step-2016', u',,')\n",
      "https://www.procyclingstats.com/race/tour-de-france/2016/stage-3\n",
      "(u'rider/mark-cavendish', u'team/dimension-data-2016', u'5:59:54')\n",
      "(u'rider/andre-greipel', u'team/lotto-soudal-2016', u',,')\n",
      "(u'rider/bryan-coquard', u'team/direct-energie-2016', u',,')\n",
      "(u'rider/peter-sagan', u'team/tinkoff-2016', u',,')\n",
      "(u'rider/edward-theuns', u'team/trek-segafredo-2016', u',,')\n",
      "(u'rider/sondre-holst-enger', u'team/iam-cycling-2016', u',,')\n",
      "(u'rider/marcel-kittel', u'team/etixx-quick-step-2016', u',,')\n",
      "(u'rider/christophe-laporte', u'team/cofidis-solutions-credits-2016', u',,')\n",
      "(u'rider/daniel-mclay', u'team/fortuneo-vital-concept-2016', u',,')\n",
      "(u'rider/dylan-groenewegen', u'team/team-lottonl-jumbo-2016', u',,')\n",
      "(u'rider/alexander-kristoff', u'team/team-katusha-2016', u',,')\n",
      "(u'rider/michael-matthews', u'team/orica-bikeexchange-2016', u',,')\n",
      "(u'rider/john-degenkolb', u'team/team-giant-alpecin-2016', u',,')\n",
      "(u'rider/davide-cimolai', u'team/lampre-merida-2016', u',,')\n",
      "(u'rider/julian-alaphilippe', u'team/etixx-quick-step-2016', u',,')\n",
      "(u'rider/tony-gallopin', u'team/lotto-soudal-2016', u',,')\n",
      "(u'rider/lawson-craddock', u'team/cannondale-drapac-pro-cycling-team-2016', u',,')\n",
      "(u'rider/geoffrey-soupe', u'team/cofidis-solutions-credits-2016', u',,')\n",
      "(u'rider/vincenzo-nibali', u'team/astana-pro-team-2016', u',,')\n",
      "(u'rider/gregory-henderson', u'team/lotto-soudal-2016', u',,')\n",
      "https://www.procyclingstats.com/race/tour-de-france/2016/stage-4\n",
      "(u'rider/marcel-kittel', u'team/etixx-quick-step-2016', u'5:28:30')\n",
      "(u'rider/bryan-coquard', u'team/direct-energie-2016', u',,')\n",
      "(u'rider/peter-sagan', u'team/tinkoff-2016', u',,')\n",
      "(u'rider/dylan-groenewegen', u'team/team-lottonl-jumbo-2016', u',,')\n",
      "(u'rider/alexander-kristoff', u'team/team-katusha-2016', u',,')\n",
      "(u'rider/sondre-holst-enger', u'team/iam-cycling-2016', u',,')\n",
      "(u'rider/daniel-mclay', u'team/fortuneo-vital-concept-2016', u',,')\n",
      "(u'rider/mark-cavendish', u'team/dimension-data-2016', u',,')\n",
      "(u'rider/samuel-dumoulin', u'team/ag2r-la-mondiale-2016', u',,')\n",
      "(u'rider/simon-gerrans', u'team/orica-bikeexchange-2016', u',,')\n",
      "(u'rider/edward-theuns', u'team/trek-segafredo-2016', u',,')\n",
      "(u'rider/sep-vanmarcke', u'team/team-lottonl-jumbo-2016', u',,')\n",
      "(u'rider/lawson-craddock', u'team/cannondale-drapac-pro-cycling-team-2016', u',,')\n",
      "(u'rider/michael-matthews', u'team/orica-bikeexchange-2016', u',,')\n",
      "(u'rider/julian-alaphilippe', u'team/etixx-quick-step-2016', u',,')\n",
      "(u'rider/alejandro-valverde', u'team/movistar-team-20162', u',,')\n",
      "(u'rider/damiano-caruso', u'team/bmc-racing-team-2016', u',,')\n",
      "(u'rider/andre-greipel', u'team/lotto-soudal-2016', u',,')\n",
      "(u'rider/georg-preidler', u'team/team-giant-alpecin-2016', u',,')\n",
      "(u'rider/geoffrey-soupe', u'team/cofidis-solutions-credits-2016', u',,')\n",
      "https://www.procyclingstats.com/race/tour-de-france/2016/stage-6\n",
      "(u'rider/mark-cavendish', u'team/dimension-data-2016', u'4:43:48')\n",
      "(u'rider/marcel-kittel', u'team/etixx-quick-step-2016', u',,')\n",
      "(u'rider/daniel-mclay', u'team/fortuneo-vital-concept-2016', u',,')\n",
      "(u'rider/alexander-kristoff', u'team/team-katusha-2016', u',,')\n",
      "(u'rider/christophe-laporte', u'team/cofidis-solutions-credits-2016', u',,')\n",
      "(u'rider/peter-sagan', u'team/tinkoff-2016', u',,')\n",
      "(u'rider/dylan-groenewegen', u'team/team-lottonl-jumbo-2016', u',,')\n",
      "(u'rider/edward-theuns', u'team/trek-segafredo-2016', u',,')\n",
      "(u'rider/bryan-coquard', u'team/direct-energie-2016', u',,')\n",
      "(u'rider/shane-archbold', u'team/bora-argon-18-2016', u',,')\n",
      "(u'rider/michael-matthews', u'team/orica-bikeexchange-2016', u',,')\n",
      "(u'rider/davide-cimolai', u'team/lampre-merida-2016', u',,')\n",
      "(u'rider/samuel-dumoulin', u'team/ag2r-la-mondiale-2016', u',,')\n",
      "(u'rider/matti-breschel', u'team/cannondale-drapac-pro-cycling-team-2016', u',,')\n",
      "(u'rider/andre-greipel', u'team/lotto-soudal-2016', u',,')\n",
      "(u'rider/john-degenkolb', u'team/team-giant-alpecin-2016', u',,')\n",
      "(u'rider/fabio-sabatini', u'team/etixx-quick-step-2016', u'0:03')\n",
      "(u'rider/adrien-petit', u'team/direct-energie-2016', u',,')\n",
      "(u'rider/jacopo-guarnieri', u'team/team-katusha-2016', u'0:04')\n",
      "(u'rider/alejandro-valverde', u'team/movistar-team-20162', u',,')\n",
      "https://www.procyclingstats.com/race/tour-de-france/2016/stage-11\n",
      "(u'rider/peter-sagan', u'team/tinkoff-2016', u'3:26:23')\n",
      "(u'rider/christopher-froome', u'team/team-sky-2016', u',,')\n",
      "(u'rider/maciej-bodnar', u'team/tinkoff-2016', u',,')\n",
      "(u'rider/alexander-kristoff', u'team/team-katusha-2016', u'0:06')\n",
      "(u'rider/christophe-laporte', u'team/cofidis-solutions-credits-2016', u',,')\n",
      "(u'rider/jasper-stuyven', u'team/trek-segafredo-2016', u',,')\n",
      "(u'rider/edvald-boasson-hagen', u'team/dimension-data-2016', u',,')\n",
      "(u'rider/andre-greipel', u'team/lotto-soudal-2016', u',,')\n",
      "(u'rider/sondre-holst-enger', u'team/iam-cycling-2016', u',,')\n",
      "(u'rider/oliver-naesen', u'team/iam-cycling-2016', u',,')\n",
      "(u'rider/reinardt-janse-van-rensburg', u'team/dimension-data-2016', u',,')\n",
      "(u'rider/john-degenkolb', u'team/team-giant-alpecin-2016', u',,')\n",
      "(u'rider/dylan-groenewegen', u'team/team-lottonl-jumbo-2016', u',,')\n",
      "(u'rider/daniel-mclay', u'team/fortuneo-vital-concept-2016', u',,')\n",
      "(u'rider/adam-yates', u'team/orica-bikeexchange-2016', u',,')\n",
      "(u'rider/roman-kreuziger-1', u'team/tinkoff-2016', u',,')\n",
      "(u'rider/nairo-quintana', u'team/movistar-team-20162', u',,')\n",
      "(u'rider/simon-gerrans', u'team/orica-bikeexchange-2016', u',,')\n",
      "(u'rider/shane-archbold', u'team/bora-argon-18-2016', u',,')\n",
      "(u'rider/oscar-gatto', u'team/tinkoff-2016', u',,')\n",
      "https://www.procyclingstats.com/race/tour-de-france/2016/stage-14\n",
      "(u'rider/mark-cavendish', u'team/dimension-data-2016', u'5:43:49')\n",
      "(u'rider/alexander-kristoff', u'team/team-katusha-2016', u',,')\n",
      "(u'rider/peter-sagan', u'team/tinkoff-2016', u',,')\n",
      "(u'rider/john-degenkolb', u'team/team-giant-alpecin-2016', u',,')\n",
      "(u'rider/marcel-kittel', u'team/etixx-quick-step-2016', u',,')\n",
      "(u'rider/andre-greipel', u'team/lotto-soudal-2016', u',,')\n",
      "(u'rider/bryan-coquard', u'team/direct-energie-2016', u',,')\n",
      "(u'rider/davide-cimolai', u'team/lampre-merida-2016', u',,')\n",
      "(u'rider/christophe-laporte', u'team/cofidis-solutions-credits-2016', u',,')\n",
      "(u'rider/samuel-dumoulin', u'team/ag2r-la-mondiale-2016', u',,')\n",
      "(u'rider/dylan-groenewegen', u'team/team-lottonl-jumbo-2016', u',,')\n",
      "(u'rider/sam-bennett', u'team/bora-argon-18-2016', u',,')\n",
      "(u'rider/roy-curvers', u'team/team-giant-alpecin-2016', u',,')\n",
      "(u'rider/michael-matthews', u'team/orica-bikeexchange-2016', u',,')\n",
      "(u'rider/mathew-hayman', u'team/orica-bikeexchange-2016', u',,')\n",
      "(u'rider/anthony-roux', u'team/fdj-2016', u',,')\n",
      "(u'rider/ramunas-navardauskas', u'team/cannondale-drapac-pro-cycling-team-2016', u',,')\n",
      "(u'rider/daniel-mclay', u'team/fortuneo-vital-concept-2016', u',,')\n",
      "(u'rider/brice-feillu', u'team/fortuneo-vital-concept-2016', u',,')\n",
      "(u'rider/daryl-impey', u'team/orica-bikeexchange-2016', u',,')\n",
      "https://www.procyclingstats.com/race/tour-de-france/2016/stage-16\n",
      "(u'rider/peter-sagan', u'team/tinkoff-2016', u'4:26:02')\n",
      "(u'rider/alexander-kristoff', u'team/team-katusha-2016', u',,')\n",
      "(u'rider/sondre-holst-enger', u'team/iam-cycling-2016', u',,')\n",
      "(u'rider/john-degenkolb', u'team/team-giant-alpecin-2016', u',,')\n",
      "(u'rider/michael-matthews', u'team/orica-bikeexchange-2016', u',,')\n",
      "(u'rider/fabian-cancellara', u'team/trek-segafredo-2016', u',,')\n",
      "(u'rider/sep-vanmarcke', u'team/team-lottonl-jumbo-2016', u',,')\n",
      "(u'rider/ariel-maximiliano-richeze', u'team/etixx-quick-step-2016', u',,')\n",
      "(u'rider/edvald-boasson-hagen', u'team/dimension-data-2016', u',,')\n",
      "(u'rider/greg-van-avermaet', u'team/bmc-racing-team-2016', u',,')\n",
      "(u'rider/alejandro-valverde', u'team/movistar-team-20162', u',,')\n",
      "(u'rider/patrick-konrad', u'team/bora-argon-18-2016', u',,')\n",
      "(u'rider/romain-bardet', u'team/ag2r-la-mondiale-2016', u',,')\n",
      "(u'rider/christopher-froome', u'team/team-sky-2016', u',,')\n",
      "(u'rider/louis-meintjes', u'team/lampre-merida-2016', u',,')\n",
      "(u'rider/sebastien-reichenbach', u'team/fdj-2016', u',,')\n",
      "(u'rider/roman-kreuziger-1', u'team/tinkoff-2016', u',,')\n",
      "(u'rider/richie-porte', u'team/bmc-racing-team-2016', u',,')\n",
      "(u'rider/adam-yates', u'team/orica-bikeexchange-2016', u',,')\n",
      "(u'rider/bauke-mollema', u'team/trek-segafredo-2016', u',,')\n",
      "https://www.procyclingstats.com/race/tour-de-france/2016/stage-21\n",
      "(u'rider/andre-greipel', u'team/lotto-soudal-2016', u'2:43:08')\n",
      "(u'rider/peter-sagan', u'team/tinkoff-2016', u',,')\n",
      "(u'rider/alexander-kristoff', u'team/team-katusha-2016', u',,')\n",
      "(u'rider/edvald-boasson-hagen', u'team/dimension-data-2016', u',,')\n",
      "(u'rider/michael-matthews', u'team/orica-bikeexchange-2016', u',,')\n",
      "(u'rider/jasper-stuyven', u'team/trek-segafredo-2016', u',,')\n",
      "(u'rider/ramunas-navardauskas', u'team/cannondale-drapac-pro-cycling-team-2016', u',,')\n",
      "(u'rider/christophe-laporte', u'team/cofidis-solutions-credits-2016', u',,')\n",
      "(u'rider/sam-bennett', u'team/bora-argon-18-2016', u',,')\n",
      "(u'rider/reinardt-janse-van-rensburg', u'team/dimension-data-2016', u',,')\n",
      "(u'rider/davide-cimolai', u'team/lampre-merida-2016', u',,')\n",
      "(u'rider/daniel-mclay', u'team/fortuneo-vital-concept-2016', u',,')\n",
      "(u'rider/leigh-howard', u'team/iam-cycling-2016', u',,')\n",
      "(u'rider/ariel-maximiliano-richeze', u'team/etixx-quick-step-2016', u',,')\n",
      "(u'rider/anthony-roux', u'team/fdj-2016', u',,')\n",
      "(u'rider/john-degenkolb', u'team/team-giant-alpecin-2016', u',,')\n",
      "(u'rider/ramon-sinkeldam', u'team/team-giant-alpecin-2016', u',,')\n",
      "(u'rider/sep-vanmarcke', u'team/team-lottonl-jumbo-2016', u',,')\n",
      "(u'rider/michael-valgren-andersen', u'team/tinkoff-2016', u',,')\n",
      "(u'rider/alejandro-valverde', u'team/movistar-team-20162', u',,')\n"
     ]
    }
   ],
   "source": [
    "for i in range(8):\n",
    "    print base_url + sprint_stages[i]\n",
    "    for x in stage_results[i]:\n",
    "        print x"
   ]
  },
  {
   "cell_type": "code",
   "execution_count": 290,
   "metadata": {
    "collapsed": true
   },
   "outputs": [],
   "source": [
    "top20 = []\n",
    "for stage in stage_results:\n",
    "    names = [ x[0].split('/')[1] for x in stage]\n",
    "    top20.append(names)"
   ]
  },
  {
   "cell_type": "code",
   "execution_count": 291,
   "metadata": {
    "collapsed": true
   },
   "outputs": [],
   "source": [
    "with open('top20.csv', 'wb') as csvfile:\n",
    "    spamwriter = csv.writer(csvfile, delimiter=',',\n",
    "                            quotechar='|', quoting=csv.QUOTE_MINIMAL)\n",
    "    #write the headers for the columns\n",
    "    col_names = [x.split('/')[-1] for x in sprint_stages]\n",
    "    spamwriter.writerow(col_names)\n",
    "    #write the stats for each stage\n",
    "    for row in clean_stats:\n",
    "        spamwriter.writerow(row)\n",
    "    #write the top 20\n",
    "    for row in zip(*top20):\n",
    "        spamwriter.writerow(row)"
   ]
  },
  {
   "cell_type": "code",
   "execution_count": null,
   "metadata": {
    "collapsed": true
   },
   "outputs": [],
   "source": []
  }
 ],
 "metadata": {
  "kernelspec": {
   "display_name": "Python 2",
   "language": "python",
   "name": "python2"
  },
  "language_info": {
   "codemirror_mode": {
    "name": "ipython",
    "version": 2
   },
   "file_extension": ".py",
   "mimetype": "text/x-python",
   "name": "python",
   "nbconvert_exporter": "python",
   "pygments_lexer": "ipython2",
   "version": "2.7.13"
  }
 },
 "nbformat": 4,
 "nbformat_minor": 2
}
